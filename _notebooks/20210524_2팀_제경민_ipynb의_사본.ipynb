{
  "nbformat": 4,
  "nbformat_minor": 0,
  "metadata": {
    "colab": {
      "name": "20210524-2팀-제경민.ipynb의 사본",
      "provenance": [],
      "collapsed_sections": [],
      "authorship_tag": "ABX9TyPn3WgeEnpF1bec7+z/YocA",
      "include_colab_link": true
    },
    "kernelspec": {
      "name": "python3",
      "display_name": "Python 3"
    },
    "language_info": {
      "name": "python"
    }
  },
  "cells": [
    {
      "cell_type": "markdown",
      "metadata": {
        "id": "view-in-github",
        "colab_type": "text"
      },
      "source": [
        "<a href=\"https://colab.research.google.com/github/originalkm/blogbyoriginalkm/blob/master/_notebooks/20210524_2%ED%8C%80_%EC%A0%9C%EA%B2%BD%EB%AF%BC_ipynb%EC%9D%98_%EC%82%AC%EB%B3%B8.ipynb\" target=\"_parent\"><img src=\"https://colab.research.google.com/assets/colab-badge.svg\" alt=\"Open In Colab\"/></a>"
      ]
    },
    {
      "cell_type": "markdown",
      "metadata": {
        "id": "QajSV3zEj3uu"
      },
      "source": [
        "# 파이썬 기초"
      ]
    },
    {
      "cell_type": "markdown",
      "metadata": {
        "id": "3NGYrRCtj6WJ"
      },
      "source": [
        "**파이썬 특징**\n",
        "쉽고 간결한 문법과 높은 가독성\n",
        "인터프리터 언어(입력 즉시 실행) -> 실행상태 확인이 쉬움\n",
        "독립적인 플랫폼\n",
        "다양한 라이브러리로 필요한 기능 사용\n",
        "객채지향 언어 -> 개발과 유지보수 간편"
      ]
    },
    {
      "cell_type": "markdown",
      "metadata": {
        "id": "iJpE1NImeT12"
      },
      "source": [
        "**파이썬 활용 목적**\n",
        "형태소 빈도수 분석\n",
        "빠른 웹데이터 수집\n"
      ]
    },
    {
      "cell_type": "markdown",
      "metadata": {
        "id": "L5TllsLpr7iy"
      },
      "source": [
        "**파이썬 자료형**\n",
        "숫자형 -> 정수, 실수, 8진수, 16진수, 복소수\n",
        "문자열 -> ' '  \" \" 안의 모든 글자\n",
        "참, 거짓"
      ]
    },
    {
      "cell_type": "markdown",
      "metadata": {
        "id": "F73H01GwgGme"
      },
      "source": [
        "**코드사용**\n",
        "명령은 위->아래\n",
        "오류가 발생하면 실행이 중단\n",
        "들여쓰기도 명령의 하나다\n",
        "한 줄 주석 #이고, 여러줄 주석 '\" \"'\n",
        "대소문자 구별함"
      ]
    },
    {
      "cell_type": "markdown",
      "metadata": {
        "id": "_QEN9sLilmbU"
      },
      "source": [
        "# colab 활용과 변수"
      ]
    },
    {
      "cell_type": "code",
      "metadata": {
        "colab": {
          "base_uri": "https://localhost:8080/"
        },
        "id": "njtGKpAnnHAG",
        "outputId": "5ecb28f5-f092-4807-8df5-149a36867bd6"
      },
      "source": [
        "# 객체의 자료형 확인 type()\n",
        "a = 5\n",
        "b = 3.14\n",
        "c = '3.14'\n",
        "d = \"3.14\"\n",
        "e = -3.14\n",
        "f = 'abcd'+'가나다라'\n",
        "g = '123'*3\n",
        "print(type(a),type(b),type(c),type(d),type(e), type(f),type(g))"
      ],
      "execution_count": null,
      "outputs": [
        {
          "output_type": "stream",
          "text": [
            "<class 'int'> <class 'float'> <class 'str'> <class 'str'> <class 'float'> <class 'str'> <class 'str'>\n"
          ],
          "name": "stdout"
        }
      ]
    },
    {
      "cell_type": "markdown",
      "metadata": {
        "id": "qg1iQZi0neVm"
      },
      "source": [
        "**변수**\n",
        "변수도 객체이다.\n",
        "가장 많이 사용하는 변수는 불형, 정수형, 실수형, 문자열이 있다.\n",
        "**변수명**\n",
        "첫 글자는 영문 or _ 로 시작\n",
        "영문자, 숫자, _ 로만 구성\n",
        "대소문자 구분\n",
        "*예약어는 변수명으로 사용 불가능(이해 못함@@)*"
      ]
    },
    {
      "cell_type": "code",
      "metadata": {
        "colab": {
          "base_uri": "https://localhost:8080/",
          "height": 133
        },
        "id": "nQXNdhCrnutn",
        "outputId": "e0ce02f5-f15a-4529-e575-3512813e3499"
      },
      "source": [
        "# 변수명 에러 유형\n",
        "1st = '첫번째'\n",
        "f**t = '첫번째'\n",
        "f^st = '첫번째'\n",
        "Temp = 1000\n",
        "print(temp)\n",
        "print = '출력합니다'\n",
        "print(print)"
      ],
      "execution_count": null,
      "outputs": [
        {
          "output_type": "error",
          "ename": "SyntaxError",
          "evalue": "ignored",
          "traceback": [
            "\u001b[0;36m  File \u001b[0;32m\"<ipython-input-2-e837eda6a935>\"\u001b[0;36m, line \u001b[0;32m2\u001b[0m\n\u001b[0;31m    1st = '첫번째'\u001b[0m\n\u001b[0m      ^\u001b[0m\n\u001b[0;31mSyntaxError\u001b[0m\u001b[0;31m:\u001b[0m invalid syntax\n"
          ]
        }
      ]
    },
    {
      "cell_type": "markdown",
      "metadata": {
        "id": "TEsiYU5Dpj_8"
      },
      "source": [
        "**예제**\n",
        "`변수명으로 적합한것`\n",
        "3 5 6 7 \n",
        "`적합하지 않은 것`\n",
        "1 컴퓨터 -> 한글 사용\n",
        "2 63building -> 첫 시작 영문이나 _로 시작해야 함\n",
        "4 font& -> 영문자, 숫자, _ 만 사용가능\n",
        "8 file name"
      ]
    },
    {
      "cell_type": "code",
      "metadata": {
        "colab": {
          "base_uri": "https://localhost:8080/"
        },
        "id": "RrHsCxxHq_ys",
        "outputId": "a2b99459-c882-433f-a5fb-4a185c4dd706"
      },
      "source": [
        "print(100+200)\n",
        "print(\"HELLO World\")"
      ],
      "execution_count": null,
      "outputs": [
        {
          "output_type": "stream",
          "text": [
            "300\n",
            "HELLO World\n"
          ],
          "name": "stdout"
        }
      ]
    },
    {
      "cell_type": "code",
      "metadata": {
        "colab": {
          "base_uri": "https://localhost:8080/"
        },
        "id": "bso741kCrJVt",
        "outputId": "d7dc3eb7-8d3b-476f-fea4-66d43ead20cd"
      },
      "source": [
        "temp = 100\n",
        "temp"
      ],
      "execution_count": null,
      "outputs": [
        {
          "output_type": "execute_result",
          "data": {
            "text/plain": [
              "100"
            ]
          },
          "metadata": {
            "tags": []
          },
          "execution_count": 4
        }
      ]
    },
    {
      "cell_type": "code",
      "metadata": {
        "colab": {
          "base_uri": "https://localhost:8080/"
        },
        "id": "2uCn87NerOM8",
        "outputId": "27cf05b0-d2fd-4b5e-d213-8db5292c494f"
      },
      "source": [
        "temp2= 200\n",
        "print(temp2)"
      ],
      "execution_count": null,
      "outputs": [
        {
          "output_type": "stream",
          "text": [
            "200\n"
          ],
          "name": "stdout"
        }
      ]
    },
    {
      "cell_type": "code",
      "metadata": {
        "colab": {
          "base_uri": "https://localhost:8080/"
        },
        "id": "bxNtok4XrUR5",
        "outputId": "4cd93c44-0ca0-436d-8b14-7fdadb9e8ef9"
      },
      "source": [
        "temp3 = temp + temp2\n",
        "temp3"
      ],
      "execution_count": null,
      "outputs": [
        {
          "output_type": "execute_result",
          "data": {
            "text/plain": [
              "300"
            ]
          },
          "metadata": {
            "tags": []
          },
          "execution_count": 6
        }
      ]
    },
    {
      "cell_type": "code",
      "metadata": {
        "colab": {
          "base_uri": "https://localhost:8080/"
        },
        "id": "VJeHljDKrp81",
        "outputId": "a5cc7065-6912-4b29-917a-af6afb7f7e75"
      },
      "source": [
        "str4 = '100'\n",
        "type(str4)"
      ],
      "execution_count": null,
      "outputs": [
        {
          "output_type": "execute_result",
          "data": {
            "text/plain": [
              "str"
            ]
          },
          "metadata": {
            "tags": []
          },
          "execution_count": 7
        }
      ]
    },
    {
      "cell_type": "code",
      "metadata": {
        "colab": {
          "base_uri": "https://localhost:8080/"
        },
        "id": "brfX_hz0rwV5",
        "outputId": "ac8da4f3-bd93-4ad0-d574-c1e873a0fe70"
      },
      "source": [
        "type(int)"
      ],
      "execution_count": null,
      "outputs": [
        {
          "output_type": "execute_result",
          "data": {
            "text/plain": [
              "type"
            ]
          },
          "metadata": {
            "tags": []
          },
          "execution_count": 8
        }
      ]
    },
    {
      "cell_type": "markdown",
      "metadata": {
        "id": "BcoxTTNKsWu2"
      },
      "source": [
        "# 배열"
      ]
    },
    {
      "cell_type": "markdown",
      "metadata": {
        "id": "lcabrTtXspMM"
      },
      "source": [
        "배열은 여러 개의 것들을 하나의 리스트 값으로 가진다는 점에서 변수와 차이가 있다.\n",
        "len() 배열 원소길이 알려주는 함수"
      ]
    },
    {
      "cell_type": "markdown",
      "metadata": {
        "id": "TaBOiRmvsbVe"
      },
      "source": [
        "**리스트 자료형**\n",
        "리스트 자료형은 []\n",
        "배열의 가장 앞 원소는 1이 아닌 0\n",
        "배열 원소 접근 []안에 배열 순서값 사용\n",
        "마지막 원소는 [-1]"
      ]
    },
    {
      "cell_type": "code",
      "metadata": {
        "colab": {
          "base_uri": "https://localhost:8080/"
        },
        "id": "4VGSr42hsvvD",
        "outputId": "de2c8bee-fabf-4f88-a680-27d38315c9d6"
      },
      "source": [
        "list = [1,2,3,4,5,6,7,8,9,10]\n",
        "print(list)"
      ],
      "execution_count": null,
      "outputs": [
        {
          "output_type": "stream",
          "text": [
            "[1, 2, 3, 4, 5, 6, 7, 8, 9, 10]\n"
          ],
          "name": "stdout"
        }
      ]
    },
    {
      "cell_type": "code",
      "metadata": {
        "colab": {
          "base_uri": "https://localhost:8080/",
          "height": 234
        },
        "id": "baLY5Wtgs7zF",
        "outputId": "73de2774-d723-4819-a222-266fbbaeccd3"
      },
      "source": [
        "list1 = [1,2,3,4,5,6,7,8,9,10]\n",
        "print(list1[0])\n",
        "print(list1[-1])\n",
        "print('list1 배열의 마지막 원소값은'+ str(list1[-1] + '입니다'))"
      ],
      "execution_count": null,
      "outputs": [
        {
          "output_type": "stream",
          "text": [
            "1\n",
            "10\n"
          ],
          "name": "stdout"
        },
        {
          "output_type": "error",
          "ename": "TypeError",
          "evalue": "ignored",
          "traceback": [
            "\u001b[0;31m---------------------------------------------------------------------------\u001b[0m",
            "\u001b[0;31mTypeError\u001b[0m                                 Traceback (most recent call last)",
            "\u001b[0;32m<ipython-input-16-3bef79dbd2ad>\u001b[0m in \u001b[0;36m<module>\u001b[0;34m()\u001b[0m\n\u001b[1;32m      2\u001b[0m \u001b[0mprint\u001b[0m\u001b[0;34m(\u001b[0m\u001b[0mlist1\u001b[0m\u001b[0;34m[\u001b[0m\u001b[0;36m0\u001b[0m\u001b[0;34m]\u001b[0m\u001b[0;34m)\u001b[0m\u001b[0;34m\u001b[0m\u001b[0;34m\u001b[0m\u001b[0m\n\u001b[1;32m      3\u001b[0m \u001b[0mprint\u001b[0m\u001b[0;34m(\u001b[0m\u001b[0mlist1\u001b[0m\u001b[0;34m[\u001b[0m\u001b[0;34m-\u001b[0m\u001b[0;36m1\u001b[0m\u001b[0;34m]\u001b[0m\u001b[0;34m)\u001b[0m\u001b[0;34m\u001b[0m\u001b[0;34m\u001b[0m\u001b[0m\n\u001b[0;32m----> 4\u001b[0;31m \u001b[0mprint\u001b[0m\u001b[0;34m(\u001b[0m\u001b[0;34m'list1 배열의 마지막 원소값은'\u001b[0m\u001b[0;34m+\u001b[0m \u001b[0mstr\u001b[0m\u001b[0;34m(\u001b[0m\u001b[0mlist1\u001b[0m\u001b[0;34m[\u001b[0m\u001b[0;34m-\u001b[0m\u001b[0;36m1\u001b[0m\u001b[0;34m]\u001b[0m \u001b[0;34m+\u001b[0m \u001b[0;34m'입니다'\u001b[0m\u001b[0;34m)\u001b[0m\u001b[0;34m)\u001b[0m\u001b[0;34m\u001b[0m\u001b[0;34m\u001b[0m\u001b[0m\n\u001b[0m",
            "\u001b[0;31mTypeError\u001b[0m: unsupported operand type(s) for +: 'int' and 'str'"
          ]
        }
      ]
    },
    {
      "cell_type": "code",
      "metadata": {
        "colab": {
          "base_uri": "https://localhost:8080/"
        },
        "id": "K0tWQ0WoudLp",
        "outputId": "d0b155e2-1450-49c5-d917-d151ae9202b1"
      },
      "source": [
        "list1 = [1,2,3,4,5,6,7,8,9,10]\n",
        "print(list1[2:6])\n",
        "print(list1[2:])\n",
        "print(list1[:6])\n",
        "print(list1[:-1])"
      ],
      "execution_count": null,
      "outputs": [
        {
          "output_type": "stream",
          "text": [
            "[3, 4, 5, 6]\n",
            "[3, 4, 5, 6, 7, 8, 9, 10]\n",
            "[1, 2, 3, 4, 5, 6]\n",
            "[1, 2, 3, 4, 5, 6, 7, 8, 9]\n"
          ],
          "name": "stdout"
        }
      ]
    },
    {
      "cell_type": "markdown",
      "metadata": {
        "id": "MHLlcgwivbR1"
      },
      "source": [
        "**슬라이싱**\n",
        "배열 원소의 일부분만 가져오기\n",
        "**range**\n",
        "리스트 = list(range(횟수))\n",
        "리스트 = list(range(시작,끝))\n",
        "리스트 = list(range(시작,끝,증가폭))"
      ]
    },
    {
      "cell_type": "code",
      "metadata": {
        "colab": {
          "base_uri": "https://localhost:8080/",
          "height": 234
        },
        "id": "Rw9DLck6vUgB",
        "outputId": "85644609-5ce0-49cf-c0b1-64906756666e"
      },
      "source": [
        "list1 = [1,2,3,4,5,6,7,8,9,10]\n",
        "list_rg1 = list(range(11))\n",
        "list_rg2 = list(range(5,12))\n",
        "list_rg3 = list(range(-4,5,2))\n",
        "list_rg4 = list(range(20,-1, -1))\n",
        "list_rg5 = list('hello world')\n",
        "print(\"list_rg1은\" , list_rg1)\n",
        "print(\"list_rg2은\" , list_rg2)\n",
        "print(\"list_rg3은\" , list_rg3)\n",
        "print(\"list_rg4은\" , list_rg4)\n",
        "print(\"list_rg5은\" , list_rg5)"
      ],
      "execution_count": null,
      "outputs": [
        {
          "output_type": "error",
          "ename": "TypeError",
          "evalue": "ignored",
          "traceback": [
            "\u001b[0;31m---------------------------------------------------------------------------\u001b[0m",
            "\u001b[0;31mTypeError\u001b[0m                                 Traceback (most recent call last)",
            "\u001b[0;32m<ipython-input-20-89718e0526d4>\u001b[0m in \u001b[0;36m<module>\u001b[0;34m()\u001b[0m\n\u001b[1;32m      1\u001b[0m \u001b[0mlist1\u001b[0m \u001b[0;34m=\u001b[0m \u001b[0;34m[\u001b[0m\u001b[0;36m1\u001b[0m\u001b[0;34m,\u001b[0m\u001b[0;36m2\u001b[0m\u001b[0;34m,\u001b[0m\u001b[0;36m3\u001b[0m\u001b[0;34m,\u001b[0m\u001b[0;36m4\u001b[0m\u001b[0;34m,\u001b[0m\u001b[0;36m5\u001b[0m\u001b[0;34m,\u001b[0m\u001b[0;36m6\u001b[0m\u001b[0;34m,\u001b[0m\u001b[0;36m7\u001b[0m\u001b[0;34m,\u001b[0m\u001b[0;36m8\u001b[0m\u001b[0;34m,\u001b[0m\u001b[0;36m9\u001b[0m\u001b[0;34m,\u001b[0m\u001b[0;36m10\u001b[0m\u001b[0;34m]\u001b[0m\u001b[0;34m\u001b[0m\u001b[0;34m\u001b[0m\u001b[0m\n\u001b[0;32m----> 2\u001b[0;31m \u001b[0mlist_rg1\u001b[0m \u001b[0;34m=\u001b[0m \u001b[0mlist\u001b[0m\u001b[0;34m(\u001b[0m\u001b[0mrange\u001b[0m\u001b[0;34m(\u001b[0m\u001b[0;36m11\u001b[0m\u001b[0;34m)\u001b[0m\u001b[0;34m)\u001b[0m\u001b[0;34m\u001b[0m\u001b[0;34m\u001b[0m\u001b[0m\n\u001b[0m\u001b[1;32m      3\u001b[0m \u001b[0mlist_rg2\u001b[0m \u001b[0;34m=\u001b[0m \u001b[0mlist\u001b[0m\u001b[0;34m(\u001b[0m\u001b[0mrange\u001b[0m\u001b[0;34m(\u001b[0m\u001b[0;36m5\u001b[0m\u001b[0;34m,\u001b[0m\u001b[0;36m12\u001b[0m\u001b[0;34m)\u001b[0m\u001b[0;34m)\u001b[0m\u001b[0;34m\u001b[0m\u001b[0;34m\u001b[0m\u001b[0m\n\u001b[1;32m      4\u001b[0m \u001b[0mlist_rg3\u001b[0m \u001b[0;34m=\u001b[0m \u001b[0mlist\u001b[0m\u001b[0;34m(\u001b[0m\u001b[0mrange\u001b[0m\u001b[0;34m(\u001b[0m\u001b[0;34m-\u001b[0m\u001b[0;36m4\u001b[0m\u001b[0;34m,\u001b[0m\u001b[0;36m5\u001b[0m\u001b[0;34m,\u001b[0m\u001b[0;36m2\u001b[0m\u001b[0;34m)\u001b[0m\u001b[0;34m)\u001b[0m\u001b[0;34m\u001b[0m\u001b[0;34m\u001b[0m\u001b[0m\n\u001b[1;32m      5\u001b[0m \u001b[0mlist_rg4\u001b[0m \u001b[0;34m=\u001b[0m \u001b[0mlist\u001b[0m\u001b[0;34m(\u001b[0m\u001b[0mrange\u001b[0m\u001b[0;34m(\u001b[0m\u001b[0;36m20\u001b[0m\u001b[0;34m,\u001b[0m\u001b[0;34m-\u001b[0m\u001b[0;36m1\u001b[0m\u001b[0;34m,\u001b[0m \u001b[0;34m-\u001b[0m\u001b[0;36m1\u001b[0m\u001b[0;34m)\u001b[0m\u001b[0;34m)\u001b[0m\u001b[0;34m\u001b[0m\u001b[0;34m\u001b[0m\u001b[0m\n",
            "\u001b[0;31mTypeError\u001b[0m: 'list' object is not callable"
          ]
        }
      ]
    }
  ]
}